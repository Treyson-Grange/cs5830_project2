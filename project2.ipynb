{
 "cells": [
  {
   "cell_type": "markdown",
   "metadata": {},
   "source": [
    "# Project 2\n",
    "## Trevis Slagowski & Treyson Grange"
   ]
  },
  {
   "cell_type": "code",
   "execution_count": null,
   "metadata": {},
   "outputs": [],
   "source": [
    "import pandas as pd \n",
    "import seaborn as sns\n",
    "import numpy as np\n",
    "from scipy import stats\n",
    "from matplotlib import pyplot as plt"
   ]
  },
  {
   "cell_type": "code",
   "execution_count": null,
   "metadata": {},
   "outputs": [],
   "source": [
    "zipcodes_df = pd.read_csv('datasets/AustinZipCodes.csv')\n",
    "crime_df = pd.read_csv('datasets/crime-housing-austin-2015.csv')"
   ]
  },
  {
   "cell_type": "markdown",
   "metadata": {},
   "source": [
    "## Data Exploration"
   ]
  },
  {
   "cell_type": "code",
   "execution_count": null,
   "metadata": {},
   "outputs": [],
   "source": [
    "display(zipcodes_df.head())"
   ]
  },
  {
   "cell_type": "code",
   "execution_count": null,
   "metadata": {},
   "outputs": [],
   "source": [
    "display(crime_df.head())"
   ]
  },
  {
   "cell_type": "code",
   "execution_count": null,
   "metadata": {},
   "outputs": [],
   "source": [
    "crime_df.columns"
   ]
  },
  {
   "cell_type": "code",
   "execution_count": null,
   "metadata": {},
   "outputs": [],
   "source": [
    "crime_df.describe()"
   ]
  },
  {
   "cell_type": "code",
   "execution_count": null,
   "metadata": {},
   "outputs": [],
   "source": [
    "crime_df.info()"
   ]
  },
  {
   "cell_type": "code",
   "execution_count": null,
   "metadata": {},
   "outputs": [],
   "source": [
    "display(crime_df['Location'].value_counts())"
   ]
  },
  {
   "cell_type": "code",
   "execution_count": null,
   "metadata": {},
   "outputs": [],
   "source": [
    "display(crime_df['Clearance_Status'].value_counts())"
   ]
  },
  {
   "cell_type": "markdown",
   "metadata": {},
   "source": [
    "## First Analysis"
   ]
  },
  {
   "cell_type": "code",
   "execution_count": null,
   "metadata": {},
   "outputs": [],
   "source": [
    "crime_df['households'] = crime_df['Largehouseholds(5+members)'].str.replace('%', '').astype('float')\n",
    "display(crime_df['households'])"
   ]
  },
  {
   "cell_type": "markdown",
   "metadata": {},
   "source": [
    "## Second Analysis Bulgary success rate compared to Median Household Income\n",
    "(Burglaries are defined as \"BURGLARY OF RESIDENCE\" by the Highest_Offense_Desc column)"
   ]
  },
  {
   "cell_type": "code",
   "execution_count": null,
   "metadata": {},
   "outputs": [],
   "source": [
    "import seaborn as sns\n",
    "# Does the houshold income correlate to how much bulguaries happen in the area?\n",
    "crime_df['householdincome'] = crime_df['Medianhouseholdincome'].str.replace('$', '').astype('float')\n",
    "houseHoldIncome = crime_df['householdincome']\n",
    "print(houseHoldIncome.shape)\n",
    "\n",
    "\n",
    "pre = crime_df[crime_df['Highest_NIBRS_UCR_Offense_Description'] == 'Burglary']\n",
    "burglarie = pre[crime_df['Highest_Offense_Desc'] == 'BURGLARY OF RESIDENCE']\n",
    "\n",
    "\n",
    "\n",
    "plt.figure(figsize=(10, 6))\n",
    "plt.hist(burglarie['householdincome'], bins=20, color='blue', edgecolor='black')\n",
    "plt.xlabel('Household Income')\n",
    "plt.ylabel('Number of Burglaries')\n",
    "plt.title('Distribution of Burglaries by Household Income')\n",
    "plt.show()\n"
   ]
  },
  {
   "cell_type": "markdown",
   "metadata": {},
   "source": [
    "According to our histogram, we see almost all burglaries happen in the $40000 - $60000. Makes sense that's where most people live. Lets normalize and focus on cases that have been cleared. "
   ]
  },
  {
   "cell_type": "code",
   "execution_count": null,
   "metadata": {},
   "outputs": [],
   "source": [
    "income_bins = [0, 30000, 60000, 90000, 120000, 150000]\n",
    "income_labels = ['<30k', '30k-60k', '60k-90k', '90k-120k', '120k-150k']\n",
    "\n",
    "burglarie['IncomeGroup'] = pd.cut(burglarie['householdincome'], bins=income_bins, labels=income_labels)\n",
    "\n",
    "cleared_by_arrest = burglarie[burglarie['Clearance_Status'] == 'C']\n",
    "\n",
    "print(f\"The number of rows in the cleared_by_arrest DataFrame is: {cleared_by_arrest.shape[0]}\")\n",
    "print(f\"The number of crimes that were not solved (O or N) is: {burglarie.shape[0] - cleared_by_arrest.shape[0]}\")\n",
    "\n",
    "total_cases = burglarie.groupby('IncomeGroup').size().reset_index(name='TotalCases')\n",
    "\n",
    "cleared_counts = cleared_by_arrest.groupby('IncomeGroup').size().reset_index(name='ClearedCases')\n",
    "\n",
    "merged_df = pd.merge(total_cases, cleared_counts, on='IncomeGroup', how='left')\n",
    "\n",
    "merged_df['PercentageCleared'] = (merged_df['ClearedCases'] / merged_df['TotalCases']) * 100\n",
    "\n",
    "\n",
    "sns.barplot(x='IncomeGroup', y='PercentageCleared', data=merged_df)\n",
    "plt.title('Percentage of Burglaries Cleared by Arrest in Different Income Groups')\n",
    "plt.xlabel('Income Group')\n",
    "plt.ylabel('Percentage of Cleared Cases')\n",
    "plt.show()"
   ]
  },
  {
   "cell_type": "markdown",
   "metadata": {},
   "source": [
    "## So even after normalizing our data, we see that the 30k-60k have the most cleared by arrest burglaries"
   ]
  },
  {
   "cell_type": "markdown",
   "metadata": {},
   "source": [
    "### But it is important to note, that these are only in the range of 4-9% clear rate.\n",
    "That means that very little burglaries get solved in the Austin Texas area. \n",
    "Whether this be because of police department negligence or lack of security in areas.\n",
    "\n",
    "### Why is this important?\n",
    "Even after normalizing our data, we see that the 30k - 60k has the best chance of ending in an arrest.\n",
    "- For the <30k group, it is most likely because they either have poor security making the break in easier, or just don't care enough when the police ask for more information\n",
    "- For the other end, 120K - 150K, it is less obvious. A thought could be that rich people seem to never be home, causing an influx of unsolved cases."
   ]
  },
  {
   "cell_type": "markdown",
   "metadata": {},
   "source": [
    "## Third Analysis\n",
    "\n",
    "### Rental units affordable to an average teacher and the frequency of crime types in those Council Districts"
   ]
  },
  {
   "cell_type": "code",
   "execution_count": null,
   "metadata": {},
   "outputs": [],
   "source": [
    "display(crime_df['Highest_NIBRS_UCR_Offense_Description'].unique())"
   ]
  },
  {
   "cell_type": "code",
   "execution_count": null,
   "metadata": {},
   "outputs": [],
   "source": [
    "display(crime_df['Council_District'].value_counts())"
   ]
  },
  {
   "cell_type": "markdown",
   "metadata": {},
   "source": [
    "#### First, we need to process the teacher rental housing affordability data. We can take the mean of the affordability percentage in each Council District."
   ]
  },
  {
   "cell_type": "code",
   "execution_count": null,
   "metadata": {},
   "outputs": [],
   "source": [
    "def percentage_to_float(percentage_str):\n",
    "    if isinstance(percentage_str, str):\n",
    "        return float(percentage_str.strip('%')) / 100\n",
    "    return np.nan\n",
    "\n",
    "crime_df['Rental_Affordable_to_Teacher'] = crime_df['Rentalunitsaffordabletoaverageteacher'].apply(percentage_to_float)\n",
    "\n",
    "average_affordability = crime_df.groupby('Council_District')['Rental_Affordable_to_Teacher'].mean()\n",
    "average_affordability.plot(kind='bar', ylabel='Rental Units affordable to Average Teacher', title='Average Affordability by Council District')   "
   ]
  },
  {
   "cell_type": "markdown",
   "metadata": {},
   "source": [
    "#### Next, we need to aggregate crime data. We will count the number of burglaries in each Council District."
   ]
  },
  {
   "cell_type": "code",
   "execution_count": null,
   "metadata": {},
   "outputs": [],
   "source": [
    "unique_crimes = crime_df['Highest_NIBRS_UCR_Offense_Description'].unique()\n",
    "\n",
    "crime_data_dict = {}\n",
    "\n",
    "for crime in unique_crimes:\n",
    "    crime_counts = crime_df[crime_df['Highest_NIBRS_UCR_Offense_Description'] == crime].groupby('Council_District').size()\n",
    "    merged_data = pd.DataFrame({\n",
    "        f'{crime}_Count': crime_counts,\n",
    "        'Average_Affordability': average_affordability\n",
    "    }).dropna()\n",
    "    crime_data_dict[crime] = merged_data\n",
    "\n",
    "unique_crimes"
   ]
  },
  {
   "cell_type": "markdown",
   "metadata": {},
   "source": [
    "#### Let's plot the results in a scatter plot"
   ]
  },
  {
   "cell_type": "code",
   "execution_count": null,
   "metadata": {},
   "outputs": [],
   "source": [
    "fig, ax = plt.subplots(figsize=(15, 10))\n",
    "colors = plt.cm.rainbow(np.linspace(0, 1, len(unique_crimes)))\n",
    "\n",
    "for i, crime in enumerate(unique_crimes):\n",
    "    ax.scatter(x=crime_data_dict[crime]['Average_Affordability'], y=crime_data_dict[crime][f'{crime}_Count'],\n",
    "               color=colors[i], label=crime)\n",
    "\n",
    "ax.set_xlabel('Rental Affordability to Average Teachers')\n",
    "ax.set_ylabel('Crime Count')\n",
    "ax.set_title('Crime Count vs. Housing Affordability')\n",
    "ax.legend(title='Crime Types', bbox_to_anchor=(1, 1), loc='upper left')\n",
    "\n",
    "plt.show()"
   ]
  },
  {
   "cell_type": "markdown",
   "metadata": {},
   "source": [
    "#### Check the for any correlations between Rental Affordability to Average Teachers and the Crime Type"
   ]
  },
  {
   "cell_type": "code",
   "execution_count": null,
   "metadata": {},
   "outputs": [],
   "source": [
    "correlation_dict = {}\n",
    "\n",
    "for crime in unique_crimes:\n",
    "    crime_count_col = f'{crime}_Count'\n",
    "\n",
    "    correlation_dict[crime] = stats.pearsonr(crime_data_dict[crime][crime_count_col], crime_data_dict[crime]['Average_Affordability'])\n",
    "\n",
    "for correlation in correlation_dict: \n",
    "    print(f\"{correlation}: {correlation_dict[correlation]}\")"
   ]
  },
  {
   "cell_type": "markdown",
   "metadata": {},
   "source": [
    "It looks like there is a correlation for Burglary, Agg Assault, and Murder. Let's look more closely at those. "
   ]
  },
  {
   "cell_type": "code",
   "execution_count": null,
   "metadata": {},
   "outputs": [],
   "source": [
    "plt.figure(figsize=(10, 6))\n",
    "sns.scatterplot(x=crime_data_dict['Burglary']['Average_Affordability'], y=crime_data_dict['Burglary']['Burglary_Count'], data=crime_data_dict['Burglary'])\n",
    "plt.title('Scatterplot of Burglary Count vs. Housing Affordability')\n",
    "plt.xlabel('Rental Affordability to Average Teachers')\n",
    "plt.ylabel('Burglary Count')\n",
    "plt.show()\n",
    "\n",
    "print(f\"Burglary: {correlation_dict['Burglary']}\")"
   ]
  },
  {
   "cell_type": "code",
   "execution_count": null,
   "metadata": {},
   "outputs": [],
   "source": [
    "plt.figure(figsize=(10, 6))\n",
    "sns.scatterplot(x=crime_data_dict['Agg Assault']['Average_Affordability'], y=crime_data_dict['Agg Assault']['Agg Assault_Count'], data=crime_data_dict['Agg Assault'])\n",
    "plt.title('Scatterplot of Agg Assault Count vs. Housing Affordability')\n",
    "plt.xlabel('Rental Affordability to Average Teachers')\n",
    "plt.ylabel('Agg Assault Count')\n",
    "plt.show()\n",
    "\n",
    "print(f\"Agg Assault: {correlation_dict['Agg Assault']}\")"
   ]
  },
  {
   "cell_type": "code",
   "execution_count": null,
   "metadata": {},
   "outputs": [],
   "source": [
    "plt.figure(figsize=(10, 6))\n",
    "sns.scatterplot(x=crime_data_dict['Murder']['Average_Affordability'], y=crime_data_dict['Murder']['Murder_Count'], data=crime_data_dict['Murder'])\n",
    "plt.title('Scatterplot of Murder Count vs. Housing Affordability')\n",
    "plt.xlabel('Rental Affordability to Average Teachers')\n",
    "plt.ylabel('Murder Count')\n",
    "plt.show()\n",
    "\n",
    "print(f\"Murder: {correlation_dict['Murder']}\")"
   ]
  },
  {
   "cell_type": "markdown",
   "metadata": {},
   "source": [
    "There appears to be a statistically significant relationship between the crime rates of burglary, aggravated assault, and murder, and the rental affordability to an average teacher in different council districts. A positive coefficient indicates that as the rental affordability increases, so does the crime rate. But we can not definitively say this is the only attribute contributing to crime rates in Council Districts. "
   ]
  },
  {
   "cell_type": "markdown",
   "metadata": {},
   "source": [
    "## Fourth Analysis\n",
    "### Crime Statistics by Location Data"
   ]
  },
  {
   "cell_type": "code",
   "execution_count": null,
   "metadata": {},
   "outputs": [],
   "source": []
  }
 ],
 "metadata": {
  "kernelspec": {
   "display_name": "Python 3",
   "language": "python",
   "name": "python3"
  },
  "language_info": {
   "codemirror_mode": {
    "name": "ipython",
    "version": 3
   },
   "file_extension": ".py",
   "mimetype": "text/x-python",
   "name": "python",
   "nbconvert_exporter": "python",
   "pygments_lexer": "ipython3",
   "version": "3.11.6"
  }
 },
 "nbformat": 4,
 "nbformat_minor": 2
}
